{
  "cells": [
    {
      "cell_type": "markdown",
      "metadata": {
        "id": "anSjI6t8ipu4"
      },
      "source": [
        "# ***MACROENTREGA 3 - MAP PLOTING*** "
      ]
    },
    {
      "cell_type": "code",
      "execution_count": null,
      "metadata": {
        "id": "v_Xgz5PhiirE"
      },
      "outputs": [],
      "source": [
        "import pandas as pd\n",
        "import folium\n",
        "from folium import plugins"
      ]
    },
    {
      "cell_type": "markdown",
      "metadata": {
        "id": "FJWUuSSVlAcV"
      },
      "source": [
        "\n",
        "> ### Lendo base de dados"
      ]
    },
    {
      "cell_type": "markdown",
      "source": [
        "# **COLOQUE OS ARQUIVOS \"output\" NA PASTA DO COLLAB** "
      ],
      "metadata": {
        "id": "z3smaEM_kvfU"
      }
    },
    {
      "cell_type": "code",
      "execution_count": null,
      "metadata": {
        "colab": {
          "base_uri": "https://localhost:8080/"
        },
        "id": "1w7fh-gJ_L_w",
        "outputId": "38dc391d-3ab9-4c83-9afc-dbfaa5f9c673"
      },
      "outputs": [
        {
          "name": "stdout",
          "output_type": "stream",
          "text": [
            "ESCREVA O NOME DO ARQUIVO \"output\":bar-n100-1(output)\n"
          ]
        }
      ],
      "source": [
        "arquivo = input('ESCREVA O NOME DO ARQUIVO \"output\":')\n",
        "arquivo = arquivo + '.csv'"
      ]
    },
    {
      "cell_type": "code",
      "execution_count": null,
      "metadata": {
        "id": "3sTBjI4ojNyw"
      },
      "outputs": [],
      "source": [
        "solution_df = pd.read_csv(arquivo)"
      ]
    },
    {
      "cell_type": "code",
      "execution_count": null,
      "metadata": {
        "id": "s91RraEdj4Uu"
      },
      "outputs": [],
      "source": [
        "solution_df.head(20)"
      ]
    },
    {
      "cell_type": "markdown",
      "metadata": {
        "id": "exwuq8uslP7t"
      },
      "source": [
        "> ### **Extraindo a coordenada do Depósito** "
      ]
    },
    {
      "cell_type": "code",
      "execution_count": null,
      "metadata": {
        "id": "-3CSI1Duj8TW"
      },
      "outputs": [],
      "source": [
        "latDep = solution_df.loc[0, 'lat']\n",
        "lonDep = solution_df.loc[0, 'lon']\n",
        "coordDep = [latDep,lonDep]"
      ]
    },
    {
      "cell_type": "code",
      "execution_count": null,
      "metadata": {
        "id": "z9x1xoJAk5zX"
      },
      "outputs": [],
      "source": [
        "coordDep"
      ]
    },
    {
      "cell_type": "markdown",
      "metadata": {
        "id": "2pcC8qvZtudn"
      },
      "source": [
        "> ### **Inserindo pontos de entrega, coleta e depósito no mapa** "
      ]
    },
    {
      "cell_type": "code",
      "execution_count": null,
      "metadata": {
        "id": "bmyTTlxzlwOG"
      },
      "outputs": [],
      "source": [
        "def build_theMap(): \n",
        "  mapa = folium.Map(\n",
        "                    location = coordDep,\n",
        "                    tiles = 'cartodbpositron',\n",
        "                    zoom_start = 13\n",
        "                   )\n",
        "\n",
        "  #adicionando layers de vizualização\n",
        "  markers_ent = folium.FeatureGroup(name = 'Pontos de entrega')\n",
        "  markers_col = folium.FeatureGroup(name = 'Pontos de coleta')\n",
        "  #markers_rota = folium.FeatureGroup(name = 'Rota de um caminhão')\n",
        "\n",
        "  folium.Marker(coordDep, \n",
        "             tooltip = '<i>Depósito</i>',\n",
        "             icon = folium.Icon(color='green'),\n",
        "             ).add_to(mapa)\n",
        "\n",
        "  for id, lati, longi, deman in zip(solution_df.id, solution_df.lat, solution_df.lon, solution_df.dem):\n",
        "\n",
        "    popupInfo = '<i>id do vértice: {} <br> <br> demanda do vértice: {}<i>'.format(id, deman)\n",
        "\n",
        "    if deman > 0:\n",
        "      markers_ent.add_child(folium.Marker([lati,longi], \n",
        "             tooltip = '<i>Coleta</i> <br> Clique para mais informações!',\n",
        "             popup = folium.Popup(popupInfo,max_width=200,max_height=200),\n",
        "             icon = folium.Icon(color='red')\n",
        "             ))\n",
        "    \n",
        "    elif deman < 0:\n",
        "      markers_col.add_child(folium.Marker([lati,longi],\n",
        "             tooltip = '<i>Entrega</i> <br> Clique para mais informações!',\n",
        "             popup = folium.Popup(popupInfo,max_width=200,max_height=200),\n",
        "             icon = folium.Icon(color='blue')\n",
        "             ))\n",
        "    \n",
        "  mapa.add_child(markers_ent)\n",
        "  mapa.add_child(markers_col)\n",
        "  mapa.add_child(folium.LayerControl())\n",
        "  \n",
        "  return mapa\n"
      ]
    },
    {
      "cell_type": "code",
      "execution_count": null,
      "metadata": {
        "id": "1wYUwkGgDrDV"
      },
      "outputs": [],
      "source": [
        "mapa = build_theMap()"
      ]
    },
    {
      "cell_type": "code",
      "execution_count": null,
      "metadata": {
        "id": "qgy3JxTPQceS"
      },
      "outputs": [],
      "source": [
        "mapa"
      ]
    },
    {
      "cell_type": "markdown",
      "metadata": {
        "id": "RpkGBQ4CnP6r"
      },
      "source": [
        ">> ### **Traçando a rota de todos os caminhões**"
      ]
    },
    {
      "cell_type": "code",
      "execution_count": null,
      "metadata": {
        "id": "ZYK0Nc8bmHOF"
      },
      "outputs": [],
      "source": [
        "solution_df = pd.read_csv(arquivo)\n",
        "max = solution_df['m'].max()\n",
        "m = 0\n",
        "\n",
        "while m <= max:\n",
        "  j = 0\n",
        "  i = 0\n",
        "\n",
        "  coordenadas = []\n",
        "\n",
        "  #preenchendo a lista de coordenadas\n",
        "  for id, lat, lon in zip(solution_df.id,solution_df.lat,solution_df.lon):\n",
        "    if i > 1 and id == 0:\n",
        "      j+=1\n",
        "    if j > 1 and id == 0:\n",
        "      break\n",
        "    coordenadas.append([lat,lon])\n",
        "\n",
        "    i+=1\n",
        "\n",
        "  #traçando a rota\n",
        "  for it in range(len(coordenadas)-1):\n",
        "    ponto_inicial = coordenadas[it]\n",
        "    ponto_final = coordenadas[it+1]\n",
        "    folium.PolyLine(locations = [ponto_inicial,ponto_final], color = 'purple').add_to(mapa)\n",
        "\n",
        "  mapa.save('TodasAsRotas.html')\n",
        "\n",
        "  if m > 1:\n",
        "    df_remove.drop('m', axis = 1)\n",
        "\n",
        "  df_remove = solution_df.loc[(solution_df['m'] == m)]\n",
        "  solution_df = solution_df.drop(df_remove.index)\n",
        "  m+=1"
      ]
    },
    {
      "cell_type": "markdown",
      "metadata": {
        "id": "hmlhD2xW6o4f"
      },
      "source": [
        ">>### **Mostrar uma rota de cada vez**"
      ]
    },
    {
      "cell_type": "code",
      "execution_count": null,
      "metadata": {
        "id": "ptbLSZc56nkQ"
      },
      "outputs": [],
      "source": [
        "solution_df = pd.read_csv(arquivo)\n",
        "mapa = build_theMap()\n",
        "max = solution_df['m'].max()\n",
        "m = 0\n",
        "\n",
        "flag = 1\n",
        "while flag != 0:\n",
        "  j = 0\n",
        "  i = 0\n",
        "\n",
        "  coordenadas = []\n",
        "\n",
        "  #preenchendo a lista de coordenadas\n",
        "  for id, lat, lon in zip(solution_df.id,solution_df.lat,solution_df.lon):\n",
        "    if i > 1 and id == 0:\n",
        "      j+=1\n",
        "    if j > 1 and id == 0:\n",
        "      break\n",
        "    coordenadas.append([lat,lon])\n",
        "\n",
        "    i+=1\n",
        "\n",
        "  #traçando a rota\n",
        "  for it in range(len(coordenadas)-1):\n",
        "    ponto_inicial = coordenadas[it]\n",
        "    ponto_final = coordenadas[it+1]\n",
        "    folium.PolyLine(locations = [ponto_inicial,ponto_final], color = 'purple').add_to(mapa)\n",
        "\n",
        "  mapa.save('Rota1caminhao.html')\n",
        "\n",
        "  if m > 1:\n",
        "    df_remove.drop('m', axis = 1)\n",
        "\n",
        "  df_remove = solution_df.loc[(solution_df['m'] == m)]\n",
        "  solution_df = solution_df.drop(df_remove.index)\n",
        "  m+=1\n",
        "\n",
        "  \n",
        "  print('Geramos um html com a rota do primeiro caminhão! Confira nos arquivos!')\n",
        "  flag = int(input('Deseja ver a roteirização do próximo caminhão? \\n (digite 1 para continuar e 0 para parar) \\n'))\n",
        "  mapa = build_theMap()"
      ]
    },
    {
      "cell_type": "markdown",
      "metadata": {
        "id": "1GFcb_VhSDk-"
      },
      "source": [
        "> ### **Gerando mapa de calor dos pontos de entrega**"
      ]
    },
    {
      "cell_type": "code",
      "execution_count": null,
      "metadata": {
        "id": "u_1O0wMfTLUL"
      },
      "outputs": [],
      "source": [
        "mapa = folium.Map(\n",
        "                  location = coordDep,\n",
        "                  tiles = 'cartodbpositron',\n",
        "                  zoom_start = 12\n",
        "                  )\n",
        "\n",
        "folium.Marker(coordDep, \n",
        "             tooltip = '<i>Depósito</i>',\n",
        "             icon = folium.Icon(color='green'),\n",
        "             ).add_to(mapa)\n",
        "\n",
        "coordEnt = []\n",
        "for lati, longi, deman in zip(solution_df.lat, solution_df.lon, solution_df.dem):\n",
        "  if deman < 0:\n",
        "    coordEnt.append([lati,longi])\n",
        "    folium.Marker([lati,longi],\n",
        "             tooltip = '<i>Entrega</i>',\n",
        "             icon = folium.Icon(color='blue')\n",
        "             )"
      ]
    },
    {
      "cell_type": "code",
      "execution_count": null,
      "metadata": {
        "id": "48kqm8NZSVB-"
      },
      "outputs": [],
      "source": [
        "mapa.add_child(plugins.HeatMap(coordEnt))"
      ]
    }
  ],
  "metadata": {
    "colab": {
      "provenance": []
    },
    "kernelspec": {
      "display_name": "Python 3",
      "name": "python3"
    },
    "language_info": {
      "name": "python"
    }
  },
  "nbformat": 4,
  "nbformat_minor": 0
}